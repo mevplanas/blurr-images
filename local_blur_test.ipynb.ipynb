{
 "cells": [
  {
   "cell_type": "code",
   "execution_count": 0,
   "metadata": {
    "application/vnd.databricks.v1+cell": {
     "cellMetadata": {
      "byteLimit": 2048000,
      "rowLimit": 10000
     },
     "inputWidgets": {},
     "nuid": "70a42bb0-094e-4ad2-aaf4-4871b5440108",
     "showTitle": false,
     "tableResultSettingsMap": {},
     "title": ""
    }
   },
   "outputs": [],
   "source": [
    "pip install opencv-python"
   ]
  },
  {
   "cell_type": "code",
   "execution_count": 0,
   "metadata": {
    "application/vnd.databricks.v1+cell": {
     "cellMetadata": {
      "byteLimit": 2048000,
      "rowLimit": 10000
     },
     "inputWidgets": {},
     "nuid": "2c59b75c-b6cc-46c7-8037-43a2d8f59b43",
     "showTitle": false,
     "tableResultSettingsMap": {},
     "title": ""
    }
   },
   "outputs": [],
   "source": [
    "pip install ultralytics"
   ]
  },
  {
   "cell_type": "code",
   "execution_count": 0,
   "metadata": {
    "application/vnd.databricks.v1+cell": {
     "cellMetadata": {
      "byteLimit": 2048000,
      "rowLimit": 10000
     },
     "inputWidgets": {},
     "nuid": "ed594ba8-73e8-4207-a5ee-53516b81ca34",
     "showTitle": false,
     "tableResultSettingsMap": {},
     "title": ""
    }
   },
   "outputs": [],
   "source": [
    "import os\n",
    "import cv2\n",
    "from ultralytics import YOLO\n",
    "import yaml\n",
    "from PIL import Image as PILImage\n",
    "\n",
    "def is_valid_image(path):\n",
    "    try:\n",
    "        with PILImage.open(path) as img:\n",
    "            img.verify()\n",
    "        return True\n",
    "    except Exception as e:\n",
    "        print(f\"Vaizdas neįskaitomas: {path}, klaida: {e}\")\n",
    "        return False\n",
    "\n",
    "def blur_local_image(path, yolo_model, idx2class, classes_to_blur, blur_intensity):\n",
    "    print(f\"Processing: {path}\")\n",
    "\n",
    "    if not is_valid_image(path):\n",
    "        print(f\"Netinkamas failas: {path}\")\n",
    "        return\n",
    "\n",
    "    hat = yolo_model.predict(\n",
    "        path,\n",
    "        conf=0.1,\n",
    "        iou=0.4,\n",
    "    )\n",
    "    boxes = hat[0].boxes\n",
    "    labels = boxes.cls.cpu().numpy()\n",
    "    bboxes = boxes.xyxy\n",
    "\n",
    "    label_names = [idx2class[int(label)] for label in labels]\n",
    "\n",
    "    img_cv = cv2.imread(path)\n",
    "    blurred_count = 0\n",
    "\n",
    "    for i, box in enumerate(bboxes):\n",
    "        if label_names[i] in classes_to_blur:\n",
    "            x0, y0, x1, y1 = map(int, box)\n",
    "            img_cv[y0:y1, x0:x1] = cv2.blur(img_cv[y0:y1, x0:x1], (blur_intensity, blur_intensity))\n",
    "            blurred_count += 1\n",
    "\n",
    "    output_path = path.replace(\".\", \"_blurred.\")\n",
    "    cv2.imwrite(output_path, img_cv)\n",
    "    print(f\"Išsaugota: {output_path} (blurred objektai: {blurred_count})\")\n",
    "\n",
    "if __name__ == \"__main__\":\n",
    "    with open(\"configuration.yml\", \"r\") as f:\n",
    "        config = yaml.load(f, Loader=yaml.FullLoader)\n",
    "\n",
    "    idx2class = config[\"CLASS_NAMES\"]\n",
    "    classes_to_blur = config[\"CLASSES_TO_BLURR\"]\n",
    "    blur_intensity = int(config[\"BLURR_INTENSITY\"])\n",
    "    yolo_model = YOLO(config[\"YOLO_MODEL\"])\n",
    "\n",
    "\n",
    "    test_files = [\n",
    "    ]\n",
    "\n",
    "    for path in test_files:\n",
    "        if os.path.exists(path):\n",
    "            blur_local_image(path, yolo_model, idx2class, classes_to_blur, blur_intensity)\n",
    "        else:\n",
    "            print(f\"Failas nerastas: {path}\")\n"
   ]
  }
 ],
 "metadata": {
  "application/vnd.databricks.v1+notebook": {
   "computePreferences": null,
   "dashboards": [],
   "environmentMetadata": {
    "base_environment": "",
    "environment_version": "3"
   },
   "inputWidgetPreferences": null,
   "language": "python",
   "notebookMetadata": {
    "pythonIndentUnit": 4
   },
   "notebookName": "local_blur_test.ipynb",
   "widgets": {}
  },
  "language_info": {
   "name": "python"
  }
 },
 "nbformat": 4,
 "nbformat_minor": 0
}
